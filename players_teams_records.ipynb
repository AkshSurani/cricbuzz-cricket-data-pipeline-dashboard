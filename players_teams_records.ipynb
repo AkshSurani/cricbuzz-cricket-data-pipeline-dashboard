{
 "cells": [
  {
   "cell_type": "code",
   "execution_count": 2,
   "metadata": {},
   "outputs": [],
   "source": [
    "import snowflake.connector\n",
    "from snowflake.connector.pandas_tools import write_pandas\n",
    "from snowflake.connector import connect,DictCursor\n",
    "import pandas as pd\n",
    "import requests\n",
    "import json"
   ]
  },
  {
   "cell_type": "code",
   "execution_count": 3,
   "metadata": {},
   "outputs": [],
   "source": [
    "from dotenv import dotenv_values\n",
    "my_secrets = dotenv_values(\".env\")"
   ]
  },
  {
   "cell_type": "code",
   "execution_count": 4,
   "metadata": {},
   "outputs": [],
   "source": [
    "api_key = my_secrets['API_KEY']\n",
    "rapid_api_host = my_secrets['RAPID_API_HOST']"
   ]
  },
  {
   "cell_type": "code",
   "execution_count": 5,
   "metadata": {},
   "outputs": [],
   "source": [
    "headers = {\n",
    "            \"x-rapidapi-key\": api_key,\n",
    "            \"x-rapidapi-host\": rapid_api_host\n",
    "        }\n",
    "\n",
    "http_url = my_secrets['HTTP_URL']"
   ]
  },
  {
   "cell_type": "code",
   "execution_count": 6,
   "metadata": {},
   "outputs": [],
   "source": [
    "snowflake_user = my_secrets['SNOWFLAKE_USER']\n",
    "snowflake_pass = my_secrets['SNOWFLAKE_PASSWORD']\n",
    "snowflake_acc = my_secrets['SNOWFLAKE_ACCOUNT']\n",
    "snowflake_warehouse = my_secrets['SNOWFLAKE_WAREHOUSE']\n",
    "snowflake_role = my_secrets['SNOWFLAKE_ROLE']"
   ]
  },
  {
   "cell_type": "code",
   "execution_count": 7,
   "metadata": {},
   "outputs": [],
   "source": [
    "conn = snowflake.connector.connect(\n",
    " user=snowflake_user,\n",
    " password=snowflake_pass,\n",
    " account=snowflake_acc,\n",
    " warehouse=snowflake_warehouse,\n",
    " role=snowflake_role,\n",
    ")"
   ]
  },
  {
   "cell_type": "code",
   "execution_count": null,
   "metadata": {},
   "outputs": [],
   "source": [
    "cs = conn.cursor()\n",
    "# cs.execute('CREATE or REPLACE DATABASE \"cricbuzz\"')\n",
    "cs.execute('USE DATABASE \"cricbuzz\"')"
   ]
  },
  {
   "cell_type": "code",
   "execution_count": null,
   "metadata": {},
   "outputs": [],
   "source": [
    "# cs.execute('CREATE OR REPLACE TABLE \"cricbuzz_table\" (\"id\" number(10),\"rank\" number(10),\"name\" varchar(50),'\n",
    "# '\"country\" varchar(20),\"rating\" number(5),\"difference\" number(10,2),\"points\" number(5),\"lastUpdatedOn\" timestamptz,\"trend\" varchar(5),'\n",
    "# '\"faceImageId\" number(10),\"countryId\" number(10),\"isWomen\" varchar(10),\"formatType\" varchar(10),\"category\" varchar(20))')\n",
    "\n",
    "# cs.execute('USE TABLE \"cricbuzz_table\"')\n",
    "cs.execute('SHOW TABLES')\n",
    "TABLES = cs.fetchall()\n",
    "TABLES"
   ]
  },
  {
   "cell_type": "code",
   "execution_count": null,
   "metadata": {},
   "outputs": [],
   "source": [
    "def get_icc_ranking_player():\n",
    "\n",
    "    l = [\n",
    "        ['batsmen', 'odi', 0],\n",
    "        ['batsmen', 'test', 0],\n",
    "        ['batsmen', 't20', 0],\n",
    "        ['bowlers', 'odi', 0],\n",
    "        ['bowlers', 'test', 0],\n",
    "        ['bowlers', 't20', 0],\n",
    "        ['allrounders', 'odi', 0],\n",
    "        ['allrounders', 'test', 0],\n",
    "        ['allrounders', 't20', 0],\n",
    "        ['batsmen', 'odi', 1],\n",
    "        ['batsmen', 't20', 1],\n",
    "        ['bowlers', 'odi', 1],\n",
    "        ['bowlers', 't20', 1],\n",
    "        ['allrounders', 'odi', 1],\n",
    "        ['allrounders', 't20', 1],\n",
    "    ]\n",
    "\n",
    "    for i in l:\n",
    "        url = f\"{http_url}/stats/v1/rankings/{i[0]}?formatType={i[1]}&isWomen={int(i[2])}\"\n",
    "\n",
    "        try:\n",
    "            response = requests.get(url, headers=headers)\n",
    "            response.raise_for_status()  # Check for HTTP errors\n",
    "            data = response.json()\n",
    "            \n",
    "            df = pd.DataFrame(data['rank'])\n",
    "            df['category'] = i[0]\n",
    "            df['formatType'] = i[1]\n",
    "            df['isWomen'] = i[2]\n",
    "\n",
    "            write_pandas(conn, df, table_name=\"cricbuzz_table\")\n",
    "            \n",
    "        except requests.exceptions.RequestException as e:\n",
    "            print(f\"Request failed: {e}\")\n",
    "            continue\n",
    "        except KeyError as e:\n",
    "            print(f\"Key error: {e}\")\n",
    "            continue\n",
    "        except Exception as e:\n",
    "            print(f\"An error occurred: {e}\")\n",
    "            continue"
   ]
  },
  {
   "cell_type": "code",
   "execution_count": null,
   "metadata": {},
   "outputs": [],
   "source": [
    "# get_icc_ranking_player()"
   ]
  },
  {
   "cell_type": "code",
   "execution_count": 9,
   "metadata": {},
   "outputs": [],
   "source": [
    "curr = conn.cursor(DictCursor)\n",
    "curr.execute('SELECT * FROM \"cricbuzz_table\"')\n",
    "data_table = curr.fetchall()\n",
    "ranking_data = pd.DataFrame(data_table)"
   ]
  },
  {
   "cell_type": "code",
   "execution_count": null,
   "metadata": {},
   "outputs": [],
   "source": [
    "ranking_data"
   ]
  },
  {
   "cell_type": "code",
   "execution_count": null,
   "metadata": {},
   "outputs": [],
   "source": [
    "write_pandas(conn,ranking_data,table_name=\"cricbuzz_table\")"
   ]
  },
  {
   "cell_type": "code",
   "execution_count": null,
   "metadata": {},
   "outputs": [],
   "source": [
    "cs.execute('CREATE OR REPLACE TABLE \"team_list\" (\"teamId\" number(10),\"teamName\" varchar(50),\"teamSName\" varchar(20),\"countryName\" varchar(20))')"
   ]
  },
  {
   "cell_type": "code",
   "execution_count": 17,
   "metadata": {},
   "outputs": [],
   "source": [
    "def get_teams_data():   \n",
    "     try:\n",
    "          url = f\"{http_url}/teams/v1/international\"\n",
    "          response = requests.get(url, headers=headers)\n",
    "          response.raise_for_status() \n",
    "          data = response.json()\n",
    "          \n",
    "          for i in data['list']:\n",
    "               if i['teamName'] == 'Associate Teams':\n",
    "                    break \n",
    "               \n",
    "               if len(i) < 2:\n",
    "                    continue\n",
    "\n",
    "               print(i)\n",
    "               i.pop('imageId')\n",
    "               df1 = pd.DataFrame([i])  # Corrected DataFrame creation\n",
    "               write_pandas(conn, df1, table_name=\"team_list\")\n",
    "\n",
    "     except requests.exceptions.RequestException as e:\n",
    "          print(f\"Request failed: {e}\")\n",
    "     except Exception as e:\n",
    "          print(f\"An error occurred: {e}\")"
   ]
  },
  {
   "cell_type": "code",
   "execution_count": null,
   "metadata": {},
   "outputs": [],
   "source": [
    "# get_teams_data()"
   ]
  },
  {
   "cell_type": "code",
   "execution_count": 7,
   "metadata": {},
   "outputs": [
    {
     "data": {
      "text/html": [
       "<div>\n",
       "<style scoped>\n",
       "    .dataframe tbody tr th:only-of-type {\n",
       "        vertical-align: middle;\n",
       "    }\n",
       "\n",
       "    .dataframe tbody tr th {\n",
       "        vertical-align: top;\n",
       "    }\n",
       "\n",
       "    .dataframe thead th {\n",
       "        text-align: right;\n",
       "    }\n",
       "</style>\n",
       "<table border=\"1\" class=\"dataframe\">\n",
       "  <thead>\n",
       "    <tr style=\"text-align: right;\">\n",
       "      <th></th>\n",
       "      <th>teamId</th>\n",
       "      <th>teamName</th>\n",
       "      <th>teamSName</th>\n",
       "      <th>countryName</th>\n",
       "    </tr>\n",
       "  </thead>\n",
       "  <tbody>\n",
       "    <tr>\n",
       "      <th>0</th>\n",
       "      <td>2</td>\n",
       "      <td>India</td>\n",
       "      <td>IND</td>\n",
       "      <td>India</td>\n",
       "    </tr>\n",
       "    <tr>\n",
       "      <th>1</th>\n",
       "      <td>96</td>\n",
       "      <td>Afghanistan</td>\n",
       "      <td>AFG</td>\n",
       "      <td>None</td>\n",
       "    </tr>\n",
       "    <tr>\n",
       "      <th>2</th>\n",
       "      <td>27</td>\n",
       "      <td>Ireland</td>\n",
       "      <td>IRE</td>\n",
       "      <td>None</td>\n",
       "    </tr>\n",
       "    <tr>\n",
       "      <th>3</th>\n",
       "      <td>3</td>\n",
       "      <td>Pakistan</td>\n",
       "      <td>PAK</td>\n",
       "      <td>Pakistan</td>\n",
       "    </tr>\n",
       "    <tr>\n",
       "      <th>4</th>\n",
       "      <td>4</td>\n",
       "      <td>Australia</td>\n",
       "      <td>AUS</td>\n",
       "      <td>Australia</td>\n",
       "    </tr>\n",
       "    <tr>\n",
       "      <th>5</th>\n",
       "      <td>5</td>\n",
       "      <td>Sri Lanka</td>\n",
       "      <td>SL</td>\n",
       "      <td>Sri Lanka</td>\n",
       "    </tr>\n",
       "    <tr>\n",
       "      <th>6</th>\n",
       "      <td>6</td>\n",
       "      <td>Bangladesh</td>\n",
       "      <td>BAN</td>\n",
       "      <td>None</td>\n",
       "    </tr>\n",
       "    <tr>\n",
       "      <th>7</th>\n",
       "      <td>9</td>\n",
       "      <td>England</td>\n",
       "      <td>ENG</td>\n",
       "      <td>None</td>\n",
       "    </tr>\n",
       "    <tr>\n",
       "      <th>8</th>\n",
       "      <td>10</td>\n",
       "      <td>West Indies</td>\n",
       "      <td>WI</td>\n",
       "      <td>None</td>\n",
       "    </tr>\n",
       "    <tr>\n",
       "      <th>9</th>\n",
       "      <td>11</td>\n",
       "      <td>South Africa</td>\n",
       "      <td>RSA</td>\n",
       "      <td>None</td>\n",
       "    </tr>\n",
       "    <tr>\n",
       "      <th>10</th>\n",
       "      <td>12</td>\n",
       "      <td>Zimbabwe</td>\n",
       "      <td>ZIM</td>\n",
       "      <td>None</td>\n",
       "    </tr>\n",
       "    <tr>\n",
       "      <th>11</th>\n",
       "      <td>13</td>\n",
       "      <td>New Zealand</td>\n",
       "      <td>NZ</td>\n",
       "      <td>None</td>\n",
       "    </tr>\n",
       "  </tbody>\n",
       "</table>\n",
       "</div>"
      ],
      "text/plain": [
       "    teamId      teamName teamSName countryName\n",
       "0        2         India       IND       India\n",
       "1       96   Afghanistan       AFG        None\n",
       "2       27       Ireland       IRE        None\n",
       "3        3      Pakistan       PAK    Pakistan\n",
       "4        4     Australia       AUS   Australia\n",
       "5        5     Sri Lanka        SL   Sri Lanka\n",
       "6        6    Bangladesh       BAN        None\n",
       "7        9       England       ENG        None\n",
       "8       10   West Indies        WI        None\n",
       "9       11  South Africa       RSA        None\n",
       "10      12      Zimbabwe       ZIM        None\n",
       "11      13   New Zealand        NZ        None"
      ]
     },
     "execution_count": 7,
     "metadata": {},
     "output_type": "execute_result"
    }
   ],
   "source": [
    "curr = conn.cursor(DictCursor)\n",
    "curr.execute('SELECT * FROM \"team_list\"')\n",
    "data_table = curr.fetchall()\n",
    "pd.DataFrame(data_table)"
   ]
  },
  {
   "cell_type": "code",
   "execution_count": null,
   "metadata": {},
   "outputs": [],
   "source": [
    "cs.execute('CREATE OR REPLACE TABLE \"team_players\" (\"id\" number(10),\"name\" varchar(50),\"battingStyle\" varchar(50),\"bowlingStyle\" varchar(50),\"role\" varchar(20),\"teamId\" number(10))')"
   ]
  },
  {
   "cell_type": "code",
   "execution_count": 8,
   "metadata": {},
   "outputs": [],
   "source": [
    "def get_temas_player():\n",
    "    teamId = 9\n",
    "    role = ''\n",
    "    url = f\"{http_url}/teams/v1/{teamId}/players\"\n",
    "    \n",
    "    try:\n",
    "        response = requests.get(url, headers=headers)\n",
    "        response.raise_for_status()  # Check for HTTP errors\n",
    "        data = response.json()\n",
    "        \n",
    "        for i in data['player']:\n",
    "            if i['name'] == 'BATSMEN':\n",
    "                role = 'Batsman'\n",
    "                continue\n",
    "            elif i['name'] == 'ALL ROUNDER':\n",
    "                role = 'Allrounder'\n",
    "                continue\n",
    "            elif i['name'] == 'WICKET KEEPER':\n",
    "                role = 'WK-Batsman'\n",
    "                continue\n",
    "            elif i['name'] == 'BOWLER':\n",
    "                role = 'Bowler'\n",
    "                continue\n",
    "\n",
    "            i['role'] = role\n",
    "            i['teamId'] = teamId\n",
    "            i.pop('imageId', None)\n",
    "            print(i)\n",
    "            \n",
    "            df1 = pd.DataFrame([i])\n",
    "            write_pandas(conn, df1, table_name=\"team_players\")\n",
    "            \n",
    "    except requests.exceptions.RequestException as e:\n",
    "        print(f\"Request failed: {e}\")\n",
    "    except KeyError as e:\n",
    "        print(f\"Key error: {e}\")\n",
    "    except Exception as e:\n",
    "        print(f\"An error occurred: {e}\")"
   ]
  },
  {
   "cell_type": "code",
   "execution_count": null,
   "metadata": {},
   "outputs": [],
   "source": [
    "get_temas_player()"
   ]
  },
  {
   "cell_type": "code",
   "execution_count": 10,
   "metadata": {},
   "outputs": [],
   "source": [
    "curr = conn.cursor(DictCursor)\n",
    "curr.execute('SELECT * FROM team_players_main where teamId = 9')\n",
    "data_table = curr.fetchall()\n",
    "team_p = pd.DataFrame(data_table)"
   ]
  },
  {
   "cell_type": "code",
   "execution_count": null,
   "metadata": {},
   "outputs": [],
   "source": [
    "# url = f\"{http_url}/stats/v1/player/1413/batting\"\n",
    "# response = requests.get(url, headers=headers)\n",
    "# response.raise_for_status()  # Check for HTTP errors\n",
    "# data = response.json()\n"
   ]
  },
  {
   "cell_type": "code",
   "execution_count": null,
   "metadata": {},
   "outputs": [],
   "source": [
    "# data\n",
    "team_p"
   ]
  },
  {
   "cell_type": "code",
   "execution_count": null,
   "metadata": {},
   "outputs": [],
   "source": [
    "# create_table_query = \"\"\"\n",
    "# CREATE or replace TABLE PLAYER_BATTING_STATS (\n",
    "#     PlayerID NUMBER(10, 0),\n",
    "#     PlayerName VARCHAR(20),\n",
    "#     Format VARCHAR(20),\n",
    "#     Matches NUMBER(10, 0),\n",
    "#     Innings NUMBER(10, 0),\n",
    "#     Runs NUMBER(10, 0),\n",
    "#     Balls NUMBER(10, 0),\n",
    "#     Highest NUMBER(10, 0),\n",
    "#     Average NUMBER(10, 2),\n",
    "#     SR NUMBER(10, 2),\n",
    "#     NotOut NUMBER(10, 0),\n",
    "#     Fours NUMBER(10, 0),\n",
    "#     Sixes NUMBER(10, 0),\n",
    "#     Ducks NUMBER(10, 0),\n",
    "#     Fifties NUMBER(10, 0),\n",
    "#     Hundreds NUMBER(10, 0),\n",
    "#     DoubleHundreds NUMBER(10, 0),\n",
    "#     TripleHundreds NUMBER(10, 0),\n",
    "#     QuadrupleHundreds NUMBER(10, 0)\n",
    "# )\n",
    "# \"\"\"\n",
    "# cs.execute(create_table_query)"
   ]
  },
  {
   "cell_type": "code",
   "execution_count": null,
   "metadata": {},
   "outputs": [],
   "source": [
    "# create_table_query = \"\"\"\n",
    "# CREATE or replace TABLE PLAYER_BOWLING_STATS (\n",
    "#     PlayerID NUMBER(10, 0),\n",
    "#     PlayerName VARCHAR(20),\n",
    "#     Format VARCHAR(20),\n",
    "#     Matches NUMBER(10, 0),\n",
    "#     Innings NUMBER(10, 0),\n",
    "#     Balls NUMBER(10, 0),\n",
    "#     Runs NUMBER(10, 0),\n",
    "#     Maidens NUMBER(10, 0),\n",
    "#     Wickets NUMBER(10, 0),\n",
    "#     Avg NUMBER(10,2),\n",
    "#     Eco NUMBER(10,2),\n",
    "#     SR NUMBER(10, 2),\n",
    "#     BBI VARCHAR(20),\n",
    "#     BBM VARCHAR(20),\n",
    "#     FourW NUMBER(10,0),\n",
    "#     FiveW NUMBER(10,0),\n",
    "#     TenW NUMBER(10,0)\n",
    "# )\n",
    "# \"\"\"\n",
    "# cs.execute(create_table_query)"
   ]
  },
  {
   "cell_type": "code",
   "execution_count": 32,
   "metadata": {},
   "outputs": [],
   "source": [
    "import time\n",
    "\n",
    "def fetch_player_data(player_id):\n",
    "    # url = f\"{http_url}/stats/v1/player/{player_id}/batting\"\n",
    "    url = f\"{http_url}/stats/v1/player/{player_id}/bowling\"\n",
    "    \n",
    "    # response = requests.get(url, headers=headers)\n",
    "    # response.raise_for_status()  \n",
    "    # return response.json()\n",
    "    \n",
    "    retries = 5\n",
    "    for i in range(retries):\n",
    "        response = requests.get(url, headers=headers)\n",
    "        if response.status_code == 503:\n",
    "            wait_time = 2 ** i  # Exponential backoff\n",
    "            print(f\"Service unavailable. Retrying in {wait_time} seconds...\")\n",
    "            time.sleep(wait_time)\n",
    "        else:\n",
    "            response.raise_for_status()  # Check for other HTTP errors\n",
    "            return response.json()\n",
    "    raise Exception(\"Failed to fetch data after multiple retries\")\n",
    "\n",
    "def process_data(data, player_id, player_name):\n",
    "    headers = data['headers'][1:]  # Skip 'ROWHEADER'\n",
    "    values = data['values']\n",
    "    \n",
    "    records = []\n",
    "    for i, format in enumerate(headers):\n",
    "        record = {}\n",
    "        \n",
    "        record['PlayerID'] = player_id\n",
    "        record['Format'] = format\n",
    "        record['PlayerName'] = player_name\n",
    "        \n",
    "        for _,val in enumerate(values):\n",
    "            col_name = val['values'][0]\n",
    "            # record[col_name] = float(val['values'][i+1]) if '.' in val['values'][i+1] else int(val['values'][i+1])\n",
    "            if '.' in val['values'][i+1] :\n",
    "                record[col_name] = float(val['values'][i+1])\n",
    "            elif '/' in val['values'][i + 1]:\n",
    "                record[col_name] = str(val['values'][i+1])\n",
    "            else :\n",
    "                record[col_name] = int(val['values'][i+1])\n",
    "                \n",
    "        records.append(record)\n",
    "         \n",
    "    return records"
   ]
  },
  {
   "cell_type": "code",
   "execution_count": null,
   "metadata": {},
   "outputs": [],
   "source": [
    "curr = conn.cursor(DictCursor)\n",
    "curr.execute('SELECT * FROM team_players_main')\n",
    "data_table = curr.fetchall()\n",
    "team_p = pd.DataFrame(data_table)\n",
    "team_p[\"ID\"]"
   ]
  },
  {
   "cell_type": "code",
   "execution_count": null,
   "metadata": {},
   "outputs": [],
   "source": [
    "curr = conn.cursor(DictCursor)\n",
    "curr.execute('SELECT distinct playerId FROM PLAYER_BOWLING_STATS')\n",
    "data_table = curr.fetchall()\n",
    "player_batting = pd.DataFrame(data_table)\n",
    "player_batting[\"PLAYERID\"]"
   ]
  },
  {
   "cell_type": "code",
   "execution_count": null,
   "metadata": {},
   "outputs": [],
   "source": [
    "all_records = []\n",
    "\n",
    "for player_id in team_p['ID']:\n",
    "    if player_id in list(player_batting[\"PLAYERID\"]):\n",
    "        print(\"hello i am here\")\n",
    "    else :\n",
    "        data = fetch_player_data(player_id)\n",
    "        player_name = team_p.loc[team_p['ID'] == player_id,'NAME'].values[0]\n",
    "        records = process_data(data, player_id, player_name)\n",
    "        all_records.extend(records)\n",
    "    \n",
    "player_stats_df = pd.DataFrame(all_records)\n",
    "print(player_stats_df.to_string())"
   ]
  },
  {
   "cell_type": "code",
   "execution_count": null,
   "metadata": {},
   "outputs": [],
   "source": [
    "# all_records = []\n",
    "\n",
    "# for player_id in team_p['ID']:\n",
    "#     data = fetch_player_data(player_id)\n",
    "#     player_name = team_p.loc[team_p['ID'] == player_id,'NAME'].values[0]\n",
    "#     records = process_data(data, player_id, player_name)\n",
    "#     all_records.extend(records)\n",
    "    \n",
    "# player_stats_df = pd.DataFrame(all_records)\n",
    "# print(player_stats_df.to_string())"
   ]
  },
  {
   "cell_type": "code",
   "execution_count": null,
   "metadata": {},
   "outputs": [],
   "source": [
    "# for index, row in player_stats_df.iterrows():\n",
    "#     insert_query = f\"\"\"\n",
    "#     INSERT INTO PLAYER_BATTING_STATS (\n",
    "#         PlayerID, PlayerName, Format, Matches, Innings, Runs, Balls, Highest, Average, SR, NotOut, Fours, Sixes, Ducks, Fifties, Hundreds, DoubleHundreds, TripleHundreds, QuadrupleHundreds\n",
    "#     ) VALUES (\n",
    "#         {row['PlayerID']}, '{row['PlayerName']}', '{row['Format']}', {row['Matches']}, {row['Innings']}, {row['Runs']}, {row['Balls']}, {row['Highest']}, {row['Average']}, {row['SR']}, {row['Not Out']}, {row['Fours']}, {row['Sixes']}, {row['Ducks']}, {row['50s']}, {row['100s']}, {row['200s']}, {row['300s']}, {row['400s']}\n",
    "#     )\n",
    "#     \"\"\"\n",
    "#     cs.execute(insert_query)"
   ]
  },
  {
   "cell_type": "code",
   "execution_count": 34,
   "metadata": {},
   "outputs": [],
   "source": [
    "for index, row in player_stats_df.iterrows():\n",
    "    insert_query = f\"\"\"\n",
    "    INSERT INTO PLAYER_BOWLING_STATS (\n",
    "        PlayerID, PlayerName, Format, Matches, Innings, Balls, Runs, Maidens, Wickets,Avg,Eco, SR, BBI, BBM , FourW , FiveW , TenW\n",
    "    ) VALUES (\n",
    "        {row['PlayerID']}, '{row['PlayerName']}', '{row['Format']}', {row['Matches']}, {row['Innings']}, {row['Balls']},{row['Runs']}, {row['Maidens']}, {row['Wickets']}, {row['Avg']}, {row['Eco']}, {row['SR']}, '{row['BBI']}', '{row['BBM']}', {row['4w']}, {row['5w']}, {row['10w']}\n",
    "    )\n",
    "    \"\"\"\n",
    "    cs.execute(insert_query)"
   ]
  },
  {
   "cell_type": "code",
   "execution_count": 142,
   "metadata": {},
   "outputs": [],
   "source": [
    "# curr = conn.cursor(DictCursor)\n",
    "# curr.execute('SELECT * FROM PLAYER_BATTING_STATS')\n",
    "# data_table = curr.fetchall()\n",
    "# player_batting = pd.DataFrame(data_table)\n",
    "\n",
    "\n",
    "curr = conn.cursor(DictCursor)\n",
    "curr.execute('SELECT * FROM PLAYER_BOWLING_STATS')\n",
    "data_table = curr.fetchall()\n",
    "player_batting = pd.DataFrame(data_table)"
   ]
  },
  {
   "cell_type": "code",
   "execution_count": null,
   "metadata": {},
   "outputs": [],
   "source": [
    "print(player_batting.to_string())"
   ]
  }
 ],
 "metadata": {
  "kernelspec": {
   "display_name": ".venv",
   "language": "python",
   "name": "python3"
  },
  "language_info": {
   "codemirror_mode": {
    "name": "ipython",
    "version": 3
   },
   "file_extension": ".py",
   "mimetype": "text/x-python",
   "name": "python",
   "nbconvert_exporter": "python",
   "pygments_lexer": "ipython3",
   "version": "3.12.9"
  }
 },
 "nbformat": 4,
 "nbformat_minor": 2
}
