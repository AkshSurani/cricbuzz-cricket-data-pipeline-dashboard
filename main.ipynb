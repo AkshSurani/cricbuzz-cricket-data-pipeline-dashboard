{
 "cells": [
  {
   "cell_type": "code",
   "execution_count": 1,
   "metadata": {},
   "outputs": [],
   "source": [
    "import snowflake.connector\n",
    "from snowflake.connector.pandas_tools import write_pandas\n",
    "from snowflake.connector import connect,DictCursor\n",
    "import pandas as pd\n",
    "import requests\n",
    "import json"
   ]
  },
  {
   "cell_type": "code",
   "execution_count": 19,
   "metadata": {},
   "outputs": [],
   "source": [
    "# api_key = \"6567132011mshed68849c12b0db0p10f15ejsnd58ad5ce4767\"  # Aksh\n",
    "api_key = \"4f16ab08e8msh27e320e3d194653p1e0308jsn539b154232c5\" # Divy\n",
    "# api_key = \"8620937591msh4e8402b095c1122p1aa86cjsncc3f82db766b\" # Ikram"
   ]
  },
  {
   "cell_type": "code",
   "execution_count": 20,
   "metadata": {},
   "outputs": [],
   "source": [
    "headers = {\n",
    "            \"x-rapidapi-key\": f\"{api_key}\",\n",
    "            \"x-rapidapi-host\": \"cricbuzz-cricket.p.rapidapi.com\"\n",
    "        }\n",
    "\n",
    "http_url = \"https://cricbuzz-cricket.p.rapidapi.com\""
   ]
  },
  {
   "cell_type": "code",
   "execution_count": 5,
   "metadata": {},
   "outputs": [],
   "source": [
    "conn = snowflake.connector.connect(\n",
    " user='project',\n",
    " password='Project@1234567',\n",
    " account='fzkreem-ojb05768',\n",
    " warehouse = 'COMPUTE_WH',\n",
    " role = 'ACCOUNTADMIN',\n",
    ")"
   ]
  },
  {
   "cell_type": "code",
   "execution_count": 21,
   "metadata": {},
   "outputs": [
    {
     "data": {
      "text/plain": [
       "<snowflake.connector.cursor.SnowflakeCursor at 0x1d2f4a22120>"
      ]
     },
     "execution_count": 21,
     "metadata": {},
     "output_type": "execute_result"
    }
   ],
   "source": [
    "cs = conn.cursor()\n",
    "# cs.execute('CREATE or REPLACE DATABASE \"cricbuzz\"')\n",
    "cs.execute('USE DATABASE \"cricbuzz\"')"
   ]
  },
  {
   "cell_type": "code",
   "execution_count": null,
   "metadata": {},
   "outputs": [],
   "source": [
    "# cs.execute('CREATE OR REPLACE TABLE \"cricbuzz_table\" (\"id\" number(10),\"rank\" number(10),\"name\" varchar(50),'\n",
    "# '\"country\" varchar(20),\"rating\" number(5),\"difference\" number(10,2),\"points\" number(5),\"lastUpdatedOn\" timestamptz,\"trend\" varchar(5),'\n",
    "# '\"faceImageId\" number(10),\"countryId\" number(10),\"isWomen\" varchar(10),\"formatType\" varchar(10),\"category\" varchar(20))')\n",
    "\n",
    "# cs.execute('USE TABLE \"cricbuzz_table\"')\n",
    "cs.execute('SHOW TABLES')\n",
    "TABLES = cs.fetchall()\n",
    "TABLES"
   ]
  },
  {
   "cell_type": "code",
   "execution_count": null,
   "metadata": {},
   "outputs": [],
   "source": [
    "def get_icc_ranking_player():\n",
    "    # l = [[0, 'test'], [0, 'odi'], [0, 't20'],[1,'test'], [1, 'odi'], [1, 't20']]\n",
    "    # l = [[1,'test'],[1,'odi']]\n",
    "    l = [\n",
    "        ['batsmen', 'odi', 0],\n",
    "        ['batsmen', 'test', 0],\n",
    "        ['batsmen', 't20', 0],\n",
    "        ['bowlers', 'odi', 0],\n",
    "        ['bowlers', 'test', 0],\n",
    "        ['bowlers', 't20', 0],\n",
    "        ['allrounders', 'odi', 0],\n",
    "        ['allrounders', 'test', 0],\n",
    "        ['allrounders', 't20', 0],\n",
    "        # ['teams', 'odi', 0],\n",
    "        # ['teams', 'test', 0],\n",
    "        # ['teams', 't20', 0],\n",
    "        ['batsmen', 'odi', 1],\n",
    "        # ['batsmen', 'test', 1],\n",
    "        ['batsmen', 't20', 1],\n",
    "        ['bowlers', 'odi', 1],\n",
    "        # ['bowlers', 'test', 1],\n",
    "        ['bowlers', 't20', 1],\n",
    "        ['allrounders', 'odi', 1],\n",
    "        # ['allrounders', 'test', 1],\n",
    "        ['allrounders', 't20', 1],\n",
    "        # ['teams', 'odi', 1],\n",
    "        # ['teams', 'test', 1],\n",
    "        # ['teams', 't20', 1]\n",
    "    ]\n",
    "\n",
    "    for i in l:\n",
    "        url = f\"{http_url}/stats/v1/rankings/{i[0]}?formatType={i[1]}&isWomen={int(i[2])}\"\n",
    "\n",
    "        try:\n",
    "            response = requests.get(url, headers=headers)\n",
    "            response.raise_for_status()  # Check for HTTP errors\n",
    "            data = response.json()\n",
    "            \n",
    "            df = pd.DataFrame(data['rank'])\n",
    "            df['category'] = i[0]\n",
    "            df['formatType'] = i[1]\n",
    "            df['isWomen'] = i[2]\n",
    "\n",
    "            write_pandas(conn, df, table_name=\"cricbuzz_table\")\n",
    "            \n",
    "        except requests.exceptions.RequestException as e:\n",
    "            print(f\"Request failed: {e}\")\n",
    "            continue\n",
    "        except KeyError as e:\n",
    "            print(f\"Key error: {e}\")\n",
    "            continue\n",
    "        except Exception as e:\n",
    "            print(f\"An error occurred: {e}\")\n",
    "            continue"
   ]
  },
  {
   "cell_type": "code",
   "execution_count": null,
   "metadata": {},
   "outputs": [
    {
     "name": "stdout",
     "output_type": "stream",
     "text": [
      "Request failed: Expecting value: line 1 column 1 (char 0)\n",
      "Request failed: Expecting value: line 1 column 1 (char 0)\n",
      "Request failed: Expecting value: line 1 column 1 (char 0)\n"
     ]
    }
   ],
   "source": [
    "# get_icc_ranking_player()"
   ]
  },
  {
   "cell_type": "code",
   "execution_count": 9,
   "metadata": {},
   "outputs": [],
   "source": [
    "curr = conn.cursor(DictCursor)\n",
    "curr.execute('SELECT * FROM \"cricbuzz_table\"')\n",
    "data_table = curr.fetchall()\n",
    "ranking_data = pd.DataFrame(data_table)"
   ]
  },
  {
   "cell_type": "code",
   "execution_count": null,
   "metadata": {},
   "outputs": [],
   "source": [
    "ranking_data"
   ]
  },
  {
   "cell_type": "code",
   "execution_count": null,
   "metadata": {},
   "outputs": [],
   "source": [
    "write_pandas(conn,ranking_data,table_name=\"cricbuzz_table\")"
   ]
  },
  {
   "cell_type": "code",
   "execution_count": 16,
   "metadata": {},
   "outputs": [
    {
     "data": {
      "text/plain": [
       "<snowflake.connector.cursor.SnowflakeCursor at 0x20551eedd30>"
      ]
     },
     "execution_count": 16,
     "metadata": {},
     "output_type": "execute_result"
    }
   ],
   "source": [
    "cs.execute('CREATE OR REPLACE TABLE \"team_list\" (\"teamId\" number(10),\"teamName\" varchar(50),\"teamSName\" varchar(20),\"countryName\" varchar(20))')"
   ]
  },
  {
   "cell_type": "code",
   "execution_count": 17,
   "metadata": {},
   "outputs": [],
   "source": [
    "def get_teams_data():   \n",
    "     try:\n",
    "          url = f\"{http_url}/teams/v1/international\"\n",
    "          response = requests.get(url, headers=headers)\n",
    "          response.raise_for_status() \n",
    "          data = response.json()\n",
    "          \n",
    "          for i in data['list']:\n",
    "               if i['teamName'] == 'Associate Teams':\n",
    "                    break \n",
    "               \n",
    "               if len(i) < 2:\n",
    "                    continue\n",
    "\n",
    "               print(i)\n",
    "               i.pop('imageId')\n",
    "               df1 = pd.DataFrame([i])  # Corrected DataFrame creation\n",
    "               write_pandas(conn, df1, table_name=\"team_list\")\n",
    "\n",
    "     except requests.exceptions.RequestException as e:\n",
    "          print(f\"Request failed: {e}\")\n",
    "     except Exception as e:\n",
    "          print(f\"An error occurred: {e}\")"
   ]
  },
  {
   "cell_type": "code",
   "execution_count": null,
   "metadata": {},
   "outputs": [],
   "source": [
    "# get_teams_data()"
   ]
  },
  {
   "cell_type": "code",
   "execution_count": 7,
   "metadata": {},
   "outputs": [
    {
     "data": {
      "text/html": [
       "<div>\n",
       "<style scoped>\n",
       "    .dataframe tbody tr th:only-of-type {\n",
       "        vertical-align: middle;\n",
       "    }\n",
       "\n",
       "    .dataframe tbody tr th {\n",
       "        vertical-align: top;\n",
       "    }\n",
       "\n",
       "    .dataframe thead th {\n",
       "        text-align: right;\n",
       "    }\n",
       "</style>\n",
       "<table border=\"1\" class=\"dataframe\">\n",
       "  <thead>\n",
       "    <tr style=\"text-align: right;\">\n",
       "      <th></th>\n",
       "      <th>teamId</th>\n",
       "      <th>teamName</th>\n",
       "      <th>teamSName</th>\n",
       "      <th>countryName</th>\n",
       "    </tr>\n",
       "  </thead>\n",
       "  <tbody>\n",
       "    <tr>\n",
       "      <th>0</th>\n",
       "      <td>2</td>\n",
       "      <td>India</td>\n",
       "      <td>IND</td>\n",
       "      <td>India</td>\n",
       "    </tr>\n",
       "    <tr>\n",
       "      <th>1</th>\n",
       "      <td>96</td>\n",
       "      <td>Afghanistan</td>\n",
       "      <td>AFG</td>\n",
       "      <td>None</td>\n",
       "    </tr>\n",
       "    <tr>\n",
       "      <th>2</th>\n",
       "      <td>27</td>\n",
       "      <td>Ireland</td>\n",
       "      <td>IRE</td>\n",
       "      <td>None</td>\n",
       "    </tr>\n",
       "    <tr>\n",
       "      <th>3</th>\n",
       "      <td>3</td>\n",
       "      <td>Pakistan</td>\n",
       "      <td>PAK</td>\n",
       "      <td>Pakistan</td>\n",
       "    </tr>\n",
       "    <tr>\n",
       "      <th>4</th>\n",
       "      <td>4</td>\n",
       "      <td>Australia</td>\n",
       "      <td>AUS</td>\n",
       "      <td>Australia</td>\n",
       "    </tr>\n",
       "    <tr>\n",
       "      <th>5</th>\n",
       "      <td>5</td>\n",
       "      <td>Sri Lanka</td>\n",
       "      <td>SL</td>\n",
       "      <td>Sri Lanka</td>\n",
       "    </tr>\n",
       "    <tr>\n",
       "      <th>6</th>\n",
       "      <td>6</td>\n",
       "      <td>Bangladesh</td>\n",
       "      <td>BAN</td>\n",
       "      <td>None</td>\n",
       "    </tr>\n",
       "    <tr>\n",
       "      <th>7</th>\n",
       "      <td>9</td>\n",
       "      <td>England</td>\n",
       "      <td>ENG</td>\n",
       "      <td>None</td>\n",
       "    </tr>\n",
       "    <tr>\n",
       "      <th>8</th>\n",
       "      <td>10</td>\n",
       "      <td>West Indies</td>\n",
       "      <td>WI</td>\n",
       "      <td>None</td>\n",
       "    </tr>\n",
       "    <tr>\n",
       "      <th>9</th>\n",
       "      <td>11</td>\n",
       "      <td>South Africa</td>\n",
       "      <td>RSA</td>\n",
       "      <td>None</td>\n",
       "    </tr>\n",
       "    <tr>\n",
       "      <th>10</th>\n",
       "      <td>12</td>\n",
       "      <td>Zimbabwe</td>\n",
       "      <td>ZIM</td>\n",
       "      <td>None</td>\n",
       "    </tr>\n",
       "    <tr>\n",
       "      <th>11</th>\n",
       "      <td>13</td>\n",
       "      <td>New Zealand</td>\n",
       "      <td>NZ</td>\n",
       "      <td>None</td>\n",
       "    </tr>\n",
       "  </tbody>\n",
       "</table>\n",
       "</div>"
      ],
      "text/plain": [
       "    teamId      teamName teamSName countryName\n",
       "0        2         India       IND       India\n",
       "1       96   Afghanistan       AFG        None\n",
       "2       27       Ireland       IRE        None\n",
       "3        3      Pakistan       PAK    Pakistan\n",
       "4        4     Australia       AUS   Australia\n",
       "5        5     Sri Lanka        SL   Sri Lanka\n",
       "6        6    Bangladesh       BAN        None\n",
       "7        9       England       ENG        None\n",
       "8       10   West Indies        WI        None\n",
       "9       11  South Africa       RSA        None\n",
       "10      12      Zimbabwe       ZIM        None\n",
       "11      13   New Zealand        NZ        None"
      ]
     },
     "execution_count": 7,
     "metadata": {},
     "output_type": "execute_result"
    }
   ],
   "source": [
    "curr = conn.cursor(DictCursor)\n",
    "curr.execute('SELECT * FROM \"team_list\"')\n",
    "data_table = curr.fetchall()\n",
    "pd.DataFrame(data_table)"
   ]
  },
  {
   "cell_type": "code",
   "execution_count": 40,
   "metadata": {},
   "outputs": [
    {
     "data": {
      "text/plain": [
       "<snowflake.connector.cursor.SnowflakeCursor at 0x20551eedd30>"
      ]
     },
     "execution_count": 40,
     "metadata": {},
     "output_type": "execute_result"
    }
   ],
   "source": [
    "cs.execute('CREATE OR REPLACE TABLE \"team_players\" (\"id\" number(10),\"name\" varchar(50),\"battingStyle\" varchar(50),\"bowlingStyle\" varchar(50),\"role\" varchar(20),\"teamId\" number(10))')"
   ]
  },
  {
   "cell_type": "code",
   "execution_count": 8,
   "metadata": {},
   "outputs": [],
   "source": [
    "def get_temas_player():\n",
    "    teamId = 9\n",
    "    role = ''\n",
    "    url = f\"{http_url}/teams/v1/{teamId}/players\"\n",
    "    \n",
    "    try:\n",
    "        response = requests.get(url, headers=headers)\n",
    "        response.raise_for_status()  # Check for HTTP errors\n",
    "        data = response.json()\n",
    "        \n",
    "        for i in data['player']:\n",
    "            if i['name'] == 'BATSMEN':\n",
    "                role = 'Batsman'\n",
    "                continue\n",
    "            elif i['name'] == 'ALL ROUNDER':\n",
    "                role = 'Allrounder'\n",
    "                continue\n",
    "            elif i['name'] == 'WICKET KEEPER':\n",
    "                role = 'WK-Batsman'\n",
    "                continue\n",
    "            elif i['name'] == 'BOWLER':\n",
    "                role = 'Bowler'\n",
    "                continue\n",
    "\n",
    "            i['role'] = role\n",
    "            i['teamId'] = teamId\n",
    "            i.pop('imageId', None)\n",
    "            print(i)\n",
    "            \n",
    "            df1 = pd.DataFrame([i])\n",
    "            write_pandas(conn, df1, table_name=\"team_players\")\n",
    "            \n",
    "    except requests.exceptions.RequestException as e:\n",
    "        print(f\"Request failed: {e}\")\n",
    "    except KeyError as e:\n",
    "        print(f\"Key error: {e}\")\n",
    "    except Exception as e:\n",
    "        print(f\"An error occurred: {e}\")"
   ]
  },
  {
   "cell_type": "code",
   "execution_count": null,
   "metadata": {},
   "outputs": [],
   "source": [
    "get_temas_player()"
   ]
  },
  {
   "cell_type": "code",
   "execution_count": 10,
   "metadata": {},
   "outputs": [],
   "source": [
    "curr = conn.cursor(DictCursor)\n",
    "curr.execute('SELECT * FROM team_players_main where teamId = 9')\n",
    "data_table = curr.fetchall()\n",
    "team_p = pd.DataFrame(data_table)"
   ]
  },
  {
   "cell_type": "code",
   "execution_count": null,
   "metadata": {},
   "outputs": [],
   "source": [
    "# url = f\"{http_url}/stats/v1/player/1413/batting\"\n",
    "# response = requests.get(url, headers=headers)\n",
    "# response.raise_for_status()  # Check for HTTP errors\n",
    "# data = response.json()\n"
   ]
  },
  {
   "cell_type": "code",
   "execution_count": null,
   "metadata": {},
   "outputs": [],
   "source": [
    "# data\n",
    "team_p"
   ]
  },
  {
   "cell_type": "code",
   "execution_count": 129,
   "metadata": {},
   "outputs": [
    {
     "data": {
      "text/plain": [
       "<snowflake.connector.cursor.SnowflakeCursor at 0x20551eedd30>"
      ]
     },
     "execution_count": 129,
     "metadata": {},
     "output_type": "execute_result"
    }
   ],
   "source": [
    "# create_table_query = \"\"\"\n",
    "# CREATE or replace TABLE PLAYER_BATTING_STATS (\n",
    "#     PlayerID NUMBER(10, 0),\n",
    "#     PlayerName VARCHAR(20),\n",
    "#     Format VARCHAR(20),\n",
    "#     Matches NUMBER(10, 0),\n",
    "#     Innings NUMBER(10, 0),\n",
    "#     Runs NUMBER(10, 0),\n",
    "#     Balls NUMBER(10, 0),\n",
    "#     Highest NUMBER(10, 0),\n",
    "#     Average NUMBER(10, 2),\n",
    "#     SR NUMBER(10, 2),\n",
    "#     NotOut NUMBER(10, 0),\n",
    "#     Fours NUMBER(10, 0),\n",
    "#     Sixes NUMBER(10, 0),\n",
    "#     Ducks NUMBER(10, 0),\n",
    "#     Fifties NUMBER(10, 0),\n",
    "#     Hundreds NUMBER(10, 0),\n",
    "#     DoubleHundreds NUMBER(10, 0),\n",
    "#     TripleHundreds NUMBER(10, 0),\n",
    "#     QuadrupleHundreds NUMBER(10, 0)\n",
    "# )\n",
    "# \"\"\"\n",
    "# cs.execute(create_table_query)"
   ]
  },
  {
   "cell_type": "code",
   "execution_count": null,
   "metadata": {},
   "outputs": [
    {
     "data": {
      "text/plain": [
       "<snowflake.connector.cursor.SnowflakeCursor at 0x20551eedd30>"
      ]
     },
     "execution_count": 138,
     "metadata": {},
     "output_type": "execute_result"
    }
   ],
   "source": [
    "# create_table_query = \"\"\"\n",
    "# CREATE or replace TABLE PLAYER_BOWLING_STATS (\n",
    "#     PlayerID NUMBER(10, 0),\n",
    "#     PlayerName VARCHAR(20),\n",
    "#     Format VARCHAR(20),\n",
    "#     Matches NUMBER(10, 0),\n",
    "#     Innings NUMBER(10, 0),\n",
    "#     Balls NUMBER(10, 0),\n",
    "#     Runs NUMBER(10, 0),\n",
    "#     Maidens NUMBER(10, 0),\n",
    "#     Wickets NUMBER(10, 0),\n",
    "#     Avg NUMBER(10,2),\n",
    "#     Eco NUMBER(10,2),\n",
    "#     SR NUMBER(10, 2),\n",
    "#     BBI VARCHAR(20),\n",
    "#     BBM VARCHAR(20),\n",
    "#     FourW NUMBER(10,0),\n",
    "#     FiveW NUMBER(10,0),\n",
    "#     TenW NUMBER(10,0)\n",
    "# )\n",
    "# \"\"\"\n",
    "# cs.execute(create_table_query)"
   ]
  },
  {
   "cell_type": "code",
   "execution_count": 32,
   "metadata": {},
   "outputs": [],
   "source": [
    "import time\n",
    "\n",
    "def fetch_player_data(player_id):\n",
    "    # url = f\"{http_url}/stats/v1/player/{player_id}/batting\"\n",
    "    url = f\"{http_url}/stats/v1/player/{player_id}/bowling\"\n",
    "    \n",
    "    # response = requests.get(url, headers=headers)\n",
    "    # response.raise_for_status()  \n",
    "    # return response.json()\n",
    "    \n",
    "    retries = 5\n",
    "    for i in range(retries):\n",
    "        response = requests.get(url, headers=headers)\n",
    "        if response.status_code == 503:\n",
    "            wait_time = 2 ** i  # Exponential backoff\n",
    "            print(f\"Service unavailable. Retrying in {wait_time} seconds...\")\n",
    "            time.sleep(wait_time)\n",
    "        else:\n",
    "            response.raise_for_status()  # Check for other HTTP errors\n",
    "            return response.json()\n",
    "    raise Exception(\"Failed to fetch data after multiple retries\")\n",
    "\n",
    "def process_data(data, player_id, player_name):\n",
    "    headers = data['headers'][1:]  # Skip 'ROWHEADER'\n",
    "    values = data['values']\n",
    "    \n",
    "    records = []\n",
    "    for i, format in enumerate(headers):\n",
    "        record = {}\n",
    "        \n",
    "        record['PlayerID'] = player_id\n",
    "        record['Format'] = format\n",
    "        record['PlayerName'] = player_name\n",
    "        \n",
    "        for _,val in enumerate(values):\n",
    "            col_name = val['values'][0]\n",
    "            # record[col_name] = float(val['values'][i+1]) if '.' in val['values'][i+1] else int(val['values'][i+1])\n",
    "            if '.' in val['values'][i+1] :\n",
    "                record[col_name] = float(val['values'][i+1])\n",
    "            elif '/' in val['values'][i + 1]:\n",
    "                record[col_name] = str(val['values'][i+1])\n",
    "            else :\n",
    "                record[col_name] = int(val['values'][i+1])\n",
    "                \n",
    "        records.append(record)\n",
    "         \n",
    "    return records"
   ]
  },
  {
   "cell_type": "code",
   "execution_count": 29,
   "metadata": {},
   "outputs": [
    {
     "data": {
      "text/plain": [
       "0     10394\n",
       "1     24729\n",
       "2      8808\n",
       "3      8502\n",
       "4     12201\n",
       "      ...  \n",
       "92     6660\n",
       "93     8022\n",
       "94     6507\n",
       "95     8019\n",
       "96     6532\n",
       "Name: ID, Length: 97, dtype: int64"
      ]
     },
     "execution_count": 29,
     "metadata": {},
     "output_type": "execute_result"
    }
   ],
   "source": [
    "curr = conn.cursor(DictCursor)\n",
    "curr.execute('SELECT * FROM team_players_main')\n",
    "data_table = curr.fetchall()\n",
    "team_p = pd.DataFrame(data_table)\n",
    "team_p[\"ID\"]"
   ]
  },
  {
   "cell_type": "code",
   "execution_count": 31,
   "metadata": {},
   "outputs": [
    {
     "data": {
      "text/plain": [
       "0      1413\n",
       "1       576\n",
       "2      1446\n",
       "3     11808\n",
       "4      9428\n",
       "      ...  \n",
       "68     1437\n",
       "69    13162\n",
       "70    10626\n",
       "71     1643\n",
       "72      624\n",
       "Name: PLAYERID, Length: 73, dtype: int64"
      ]
     },
     "execution_count": 31,
     "metadata": {},
     "output_type": "execute_result"
    }
   ],
   "source": [
    "curr = conn.cursor(DictCursor)\n",
    "curr.execute('SELECT distinct playerId FROM PLAYER_BOWLING_STATS')\n",
    "data_table = curr.fetchall()\n",
    "player_batting = pd.DataFrame(data_table)\n",
    "player_batting[\"PLAYERID\"]"
   ]
  },
  {
   "cell_type": "code",
   "execution_count": 33,
   "metadata": {},
   "outputs": [
    {
     "name": "stdout",
     "output_type": "stream",
     "text": [
      "hello i am here\n",
      "hello i am here\n",
      "hello i am here\n",
      "hello i am here\n",
      "hello i am here\n",
      "hello i am here\n",
      "hello i am here\n",
      "hello i am here\n",
      "hello i am here\n",
      "hello i am here\n",
      "hello i am here\n",
      "hello i am here\n",
      "hello i am here\n",
      "hello i am here\n",
      "hello i am here\n",
      "hello i am here\n",
      "hello i am here\n",
      "hello i am here\n",
      "hello i am here\n",
      "hello i am here\n",
      "hello i am here\n",
      "hello i am here\n",
      "hello i am here\n",
      "hello i am here\n",
      "hello i am here\n",
      "hello i am here\n",
      "hello i am here\n",
      "hello i am here\n",
      "hello i am here\n",
      "hello i am here\n",
      "hello i am here\n",
      "hello i am here\n",
      "hello i am here\n",
      "hello i am here\n",
      "hello i am here\n",
      "hello i am here\n",
      "hello i am here\n",
      "hello i am here\n",
      "hello i am here\n",
      "hello i am here\n",
      "hello i am here\n",
      "hello i am here\n",
      "hello i am here\n",
      "hello i am here\n",
      "hello i am here\n",
      "hello i am here\n",
      "hello i am here\n",
      "hello i am here\n",
      "hello i am here\n",
      "hello i am here\n",
      "hello i am here\n",
      "hello i am here\n",
      "hello i am here\n",
      "hello i am here\n",
      "hello i am here\n",
      "hello i am here\n",
      "hello i am here\n",
      "hello i am here\n",
      "hello i am here\n",
      "hello i am here\n",
      "hello i am here\n",
      "hello i am here\n",
      "hello i am here\n",
      "hello i am here\n",
      "hello i am here\n",
      "hello i am here\n",
      "hello i am here\n",
      "hello i am here\n",
      "hello i am here\n",
      "hello i am here\n",
      "hello i am here\n",
      "hello i am here\n",
      "hello i am here\n",
      "    PlayerID Format           PlayerName  Matches  Innings  Balls  Runs  Maidens  Wickets     Avg    Eco      SR   BBI     BBM  4w  5w  10w\n",
      "0      10394   Test        Saqib Mahmood        2        4    366   137       17        6   22.83   2.25   61.00  2/21    4/79   0   0    0\n",
      "1      10394    ODI        Saqib Mahmood       13       13    633   558        5       17   32.82   5.29   37.24  4/42    4/42   1   0    0\n",
      "2      10394    T20        Saqib Mahmood       19       18    378   586        2       21   27.90   9.30   18.00  4/34    4/34   1   0    0\n",
      "3      10394    IPL        Saqib Mahmood        0        0      0     0        0        0    0.00   0.00    0.00   -/-     -/-   0   0    0\n",
      "4      24729   Test         Harshit Rana        2        3    270   203        6        4   50.75   4.51   67.50  3/48   4/117   0   0    0\n",
      "5      24729    ODI         Harshit Rana        5        5    218   207        2       10   20.70   5.70   21.80  3/31    3/31   0   0    0\n",
      "6      24729    T20         Harshit Rana        1        1     24    33        0        3   11.00   8.25    8.00  3/33    3/33   0   0    0\n",
      "7      24729    IPL         Harshit Rana       20       19    385   581        1       25   23.24   9.05   15.40  3/24    3/24   0   0    0\n",
      "8       8808   Test           Axar Patel       14       27   2540  1064       96       55   19.35   2.51   46.18  6/38   11/70   2   5    1\n",
      "9       8808    ODI           Axar Patel       68       63   3167  2372       23       72   32.94   4.49   43.99  3/24    3/24   0   0    0\n",
      "10      8808    T20           Axar Patel       71       68   1291  1571        3       71   22.13   7.30   18.18   3/9     3/9   0   0    0\n",
      "11      8808    IPL           Axar Patel      150      148   3099  3758        2      123   30.55   7.28   25.20  4/21    4/21   1   0    0\n",
      "12      8502   Test          Ben Duckett       32        0      0     0        0        0    0.00   0.00    0.00   -/-     -/-   0   0    0\n",
      "13      8502    ODI          Ben Duckett       22        0      0     0        0        0    0.00   0.00    0.00   -/-     -/-   0   0    0\n",
      "14      8502    T20          Ben Duckett       17        0      0     0        0        0    0.00   0.00    0.00   -/-     -/-   0   0    0\n",
      "15      8502    IPL          Ben Duckett        0        0      0     0        0        0    0.00   0.00    0.00   -/-     -/-   0   0    0\n",
      "16     12201   Test          Harry Brook       24        4     96    50        2        1   50.00   3.13   96.00  1/25    1/25   0   0    0\n",
      "17     12201    ODI          Harry Brook       26        0      0     0        0        0    0.00   0.00    0.00   -/-     -/-   0   0    0\n",
      "18     12201    T20          Harry Brook       44        0      0     0        0        0    0.00   0.00    0.00   -/-     -/-   0   0    0\n",
      "19     12201    IPL          Harry Brook       11        0      0     0        0        0    0.00   0.00    0.00   -/-     -/-   0   0    0\n",
      "20     13681   Test         Gus Atkinson       11       21   1852  1152       51       52   22.15   3.73   35.62  7/45  12/106   2   3    1\n",
      "21     13681    ODI         Gus Atkinson       11       11    472   528        0       13   40.62   6.71   36.31  2/28    2/28   0   0    0\n",
      "22     13681    T20         Gus Atkinson        4        4     65   122        0        6   20.33  11.26   10.83  4/20    4/20   1   0    0\n",
      "23     13681    IPL         Gus Atkinson        0        0      0     0        0        0    0.00   0.00    0.00   -/-     -/-   0   0    0\n",
      "24     10479   Test          Philip Salt        0        0      0     0        0        0    0.00   0.00    0.00   -/-     -/-   0   0    0\n",
      "25     10479    ODI          Philip Salt       33        0      0     0        0        0    0.00   0.00    0.00   -/-     -/-   0   0    0\n",
      "26     10479    T20          Philip Salt       43        0      0     0        0        0    0.00   0.00    0.00   -/-     -/-   0   0    0\n",
      "27     10479    IPL          Philip Salt       21        0      0     0        0        0    0.00   0.00    0.00   -/-     -/-   0   0    0\n",
      "28     14701   Test   Nitish Kumar Reddy        5        9    264   190        3        5   38.00   4.32   52.80  2/32    2/42   0   0    0\n",
      "29     14701    ODI   Nitish Kumar Reddy        0        0      0     0        0        0    0.00   0.00    0.00   -/-     -/-   0   0    0\n",
      "30     14701    T20   Nitish Kumar Reddy        4        3     54    71        0        3   23.67   7.89   18.00  2/23    2/23   0   0    0\n",
      "31     14701    IPL   Nitish Kumar Reddy       15        9    109   207        0        3   69.00  11.39   36.33  2/17    2/17   0   0    0\n",
      "32     14691   Test          Dhruv Jurel        4        0      0     0        0        0    0.00   0.00    0.00   -/-     -/-   0   0    0\n",
      "33     14691    ODI          Dhruv Jurel        0        0      0     0        0        0    0.00   0.00    0.00   -/-     -/-   0   0    0\n",
      "34     14691    T20          Dhruv Jurel        4        0      0     0        0        0    0.00   0.00    0.00   -/-     -/-   0   0    0\n",
      "35     14691    IPL          Dhruv Jurel       27        0      0     0        0        0    0.00   0.00    0.00   -/-     -/-   0   0    0\n",
      "36     13810   Test          Jamie Smith        9        0      0     0        0        0    0.00   0.00    0.00   -/-     -/-   0   0    0\n",
      "37     13810    ODI          Jamie Smith       10        0      0     0        0        0    0.00   0.00    0.00   -/-     -/-   0   0    0\n",
      "38     13810    T20          Jamie Smith        2        0      0     0        0        0    0.00   0.00    0.00   -/-     -/-   0   0    0\n",
      "39     13810    IPL          Jamie Smith        0        0      0     0        0        0    0.00   0.00    0.00   -/-     -/-   0   0    0\n",
      "40      7915   Test     Suryakumar Yadav        1        0      0     0        0        0    0.00   0.00    0.00   -/-     -/-   0   0    0\n",
      "41      7915    ODI     Suryakumar Yadav       37        1     12    17        0        0    0.00   8.50    0.00  0/17    0/17   0   0    0\n",
      "42      7915    T20     Suryakumar Yadav       83        1      6     5        0        2    2.50   5.00    3.00   2/5     2/5   0   0    0\n",
      "43      7915    IPL     Suryakumar Yadav      150        1      6     8        0        0    0.00   8.00    0.00   0/8     0/8   0   0    0\n",
      "44     12086   Test      Abhishek Sharma        0        0      0     0        0        0    0.00   0.00    0.00   -/-     -/-   0   0    0\n",
      "45     12086    ODI      Abhishek Sharma        0        0      0     0        0        0    0.00   0.00    0.00   -/-     -/-   0   0    0\n",
      "46     12086    T20      Abhishek Sharma       17       10    114   153        0        6   25.50   8.05   19.00   2/3     2/3   0   0    0\n",
      "47     12086    IPL      Abhishek Sharma       63       26    270   389        0       11   35.36   8.64   24.55   2/4     2/4   0   0    0\n",
      "48     10896   Test          Rinku Singh        0        0      0     0        0        0    0.00   0.00    0.00   -/-     -/-   0   0    0\n",
      "49     10896    ODI          Rinku Singh        2        1      6     2        0        1    2.00   2.00    6.00   1/2     1/2   0   0    0\n",
      "50     10896    T20          Rinku Singh       33        1      6     3        0        2    1.50   3.00    3.00   2/3     2/3   0   0    0\n",
      "51     10896    IPL          Rinku Singh       45        0      0     0        0        0    0.00   0.00    0.00   -/-     -/-   0   0    0\n",
      "52     11195   Test          Shivam Dube        0        0      0     0        0        0    0.00   0.00    0.00   -/-     -/-   0   0    0\n",
      "53     11195    ODI          Shivam Dube        4        4    107   106        0        1  106.00   5.94  107.00  1/19    1/19   0   0    0\n",
      "54     11195    T20          Shivam Dube       35       24    285   445        0       13   34.23   9.37   21.92  3/30    3/30   0   0    0\n",
      "55     11195    IPL          Shivam Dube       65       14    112   180        0        5   36.00   9.64   22.40  2/15    2/15   0   0    0\n",
      "56     14504   Test          Tilak Varma        0        0      0     0        0        0    0.00   0.00    0.00   -/-     -/-   0   0    0\n",
      "57     14504    ODI          Tilak Varma        4        2     42    39        0        0    0.00   5.57    0.00  0/18    0/18   0   0    0\n",
      "58     14504    T20          Tilak Varma       25        3     30    26        0        2   13.00   5.20   15.00   1/5     1/5   0   0    0\n",
      "59     14504    IPL          Tilak Varma       38        4     22    28        0        0    0.00   7.64    0.00   0/6     0/6   0   0    0\n",
      "60     14659   Test         Ravi Bishnoi        0        0      0     0        0        0    0.00   0.00    0.00   -/-     -/-   0   0    0\n",
      "61     14659    ODI         Ravi Bishnoi        1        1     48    69        0        1   69.00   8.63   48.00  1/69    1/69   0   0    0\n",
      "62     14659    T20         Ravi Bishnoi       42       42    964  1182        3       61   19.38   7.36   15.80  4/13    4/13   2   0    0\n",
      "63     14659    IPL         Ravi Bishnoi       66       65   1411  1836        1       63   29.14   7.81   22.40  3/24    3/24   0   0    0\n",
      "64     19636   Test        Jacob Bethell        3        2     92    77        0        3   25.67   5.02   30.67  3/72    3/72   0   0    0\n",
      "65     19636    ODI        Jacob Bethell        9        7    138   162        1        5   32.40   7.04   27.60  2/33    2/33   0   0    0\n",
      "66     19636    T20        Jacob Bethell       10        1     18    28        0        0    0.00   9.33    0.00  0/28    0/28   0   0    0\n",
      "67     19636    IPL        Jacob Bethell        0        0      0     0        0        0    0.00   0.00    0.00   -/-     -/-   0   0    0\n",
      "68     11436   Test         Brydon Carse        5       10    937   536       22       27   19.85   3.43   34.70  6/42  10/106   2   1    1\n",
      "69     11436    ODI         Brydon Carse       21       20    874   947        0       24   39.46   6.50   36.42  5/61    5/61   0   1    0\n",
      "70     11436    T20         Brydon Carse        8        8    168   226        0       15   15.07   8.07   11.20  3/23    3/23   0   0    0\n",
      "71     11436    IPL         Brydon Carse        0        0      0     0        0        0    0.00   0.00    0.00   -/-     -/-   0   0    0\n",
      "72     13940   Test     Yashasvi Jaiswal       19        1      6     6        0        0    0.00   6.00    0.00   0/6     0/6   0   0    0\n",
      "73     13940    ODI     Yashasvi Jaiswal        1        0      0     0        0        0    0.00   0.00    0.00   -/-     -/-   0   0    0\n",
      "74     13940    T20     Yashasvi Jaiswal       23        1      6    11        0        0    0.00  11.00    0.00  0/11    0/11   0   0    0\n",
      "75     13940    IPL     Yashasvi Jaiswal       52        1      1     6        0        0    0.00   0.00    0.00   0/6     0/6   0   0    0\n",
      "76      8512   Test        Jamie Overton        1        2    222   146        4        2   73.00   3.95  111.00  1/61   2/146   0   0    0\n",
      "77      8512    ODI        Jamie Overton        5        4    144   150        0        4   37.50   6.25   36.00  2/27    2/27   0   0    0\n",
      "78      8512    T20        Jamie Overton       12        8    136   186        0       11   16.91   8.21   12.36  3/20    3/20   0   0    0\n",
      "79      8512    IPL        Jamie Overton        0        0      0     0        0        0    0.00   0.00    0.00   -/-     -/-   0   0    0\n",
      "80     13217   Test       Arshdeep Singh        0        0      0     0        0        0    0.00   0.00    0.00   -/-     -/-   0   0    0\n",
      "81     13217    ODI       Arshdeep Singh        9        8    373   322        2       14   23.00   5.18   26.64  5/37    5/37   1   1    0\n",
      "82     13217    T20       Arshdeep Singh       63       63   1310  1812        2       99   18.30   8.30   13.23   4/9     4/9   2   0    0\n",
      "83     13217    IPL       Arshdeep Singh       65       65   1364  2052        1       76   27.00   9.03   17.95  5/32    5/32   2   1    0\n",
      "84     10945   Test    Washington Sundar        9       16   1173   641       19       25   25.64   3.28   46.92  7/59  11/115   2   1    1\n",
      "85     10945    ODI    Washington Sundar       23       20    828   669        5       24   27.88   4.85   34.50  3/30    3/30   0   0    0\n",
      "86     10945    T20    Washington Sundar       54       52    975  1128        1       48   23.50   6.94   20.31  3/15    3/15   0   0    0\n",
      "87     10945    IPL    Washington Sundar       60       58   1054  1325        1       37   35.81   7.54   28.49  3/16    3/16   0   0    0\n",
      "88     12926   Test  Varun Chakaravarthy        0        0      0     0        0        0    0.00   0.00    0.00   -/-     -/-   0   0    0\n",
      "89     12926    ODI  Varun Chakaravarthy        4        4    240   190        0       10   19.00   4.75   24.00  5/42    5/42   0   1    0\n",
      "90     12926    T20  Varun Chakaravarthy       18       18    411   481        0       33   14.58   7.02   12.45  5/17    5/17   0   2    0\n",
      "91     12926    IPL  Varun Chakaravarthy       70       70   1588  2002        1       83   24.12   7.56   19.13  5/20    5/20   1   1    0\n",
      "92     12254   Test           Tom Banton        0        0      0     0        0        0    0.00   0.00    0.00   -/-     -/-   0   0    0\n",
      "93     12254    ODI           Tom Banton        7        0      0     0        0        0    0.00   0.00    0.00   -/-     -/-   0   0    0\n",
      "94     12254    T20           Tom Banton       14        0      0     0        0        0    0.00   0.00    0.00   -/-     -/-   0   0    0\n",
      "95     12254    IPL           Tom Banton        2        0      0     0        0        0    0.00   0.00    0.00   -/-     -/-   0   0    0\n"
     ]
    }
   ],
   "source": [
    "all_records = []\n",
    "\n",
    "for player_id in team_p['ID']:\n",
    "    if player_id in list(player_batting[\"PLAYERID\"]):\n",
    "        print(\"hello i am here\")\n",
    "    else :\n",
    "        data = fetch_player_data(player_id)\n",
    "        player_name = team_p.loc[team_p['ID'] == player_id,'NAME'].values[0]\n",
    "        records = process_data(data, player_id, player_name)\n",
    "        all_records.extend(records)\n",
    "    \n",
    "player_stats_df = pd.DataFrame(all_records)\n",
    "print(player_stats_df.to_string())"
   ]
  },
  {
   "cell_type": "code",
   "execution_count": null,
   "metadata": {},
   "outputs": [],
   "source": [
    "# all_records = []\n",
    "\n",
    "# for player_id in team_p['ID']:\n",
    "#     data = fetch_player_data(player_id)\n",
    "#     player_name = team_p.loc[team_p['ID'] == player_id,'NAME'].values[0]\n",
    "#     records = process_data(data, player_id, player_name)\n",
    "#     all_records.extend(records)\n",
    "    \n",
    "# player_stats_df = pd.DataFrame(all_records)\n",
    "# print(player_stats_df.to_string())"
   ]
  },
  {
   "cell_type": "code",
   "execution_count": null,
   "metadata": {},
   "outputs": [],
   "source": [
    "# for index, row in player_stats_df.iterrows():\n",
    "#     insert_query = f\"\"\"\n",
    "#     INSERT INTO PLAYER_BATTING_STATS (\n",
    "#         PlayerID, PlayerName, Format, Matches, Innings, Runs, Balls, Highest, Average, SR, NotOut, Fours, Sixes, Ducks, Fifties, Hundreds, DoubleHundreds, TripleHundreds, QuadrupleHundreds\n",
    "#     ) VALUES (\n",
    "#         {row['PlayerID']}, '{row['PlayerName']}', '{row['Format']}', {row['Matches']}, {row['Innings']}, {row['Runs']}, {row['Balls']}, {row['Highest']}, {row['Average']}, {row['SR']}, {row['Not Out']}, {row['Fours']}, {row['Sixes']}, {row['Ducks']}, {row['50s']}, {row['100s']}, {row['200s']}, {row['300s']}, {row['400s']}\n",
    "#     )\n",
    "#     \"\"\"\n",
    "#     cs.execute(insert_query)"
   ]
  },
  {
   "cell_type": "code",
   "execution_count": 34,
   "metadata": {},
   "outputs": [],
   "source": [
    "for index, row in player_stats_df.iterrows():\n",
    "    insert_query = f\"\"\"\n",
    "    INSERT INTO PLAYER_BOWLING_STATS (\n",
    "        PlayerID, PlayerName, Format, Matches, Innings, Balls, Runs, Maidens, Wickets,Avg,Eco, SR, BBI, BBM , FourW , FiveW , TenW\n",
    "    ) VALUES (\n",
    "        {row['PlayerID']}, '{row['PlayerName']}', '{row['Format']}', {row['Matches']}, {row['Innings']}, {row['Balls']},{row['Runs']}, {row['Maidens']}, {row['Wickets']}, {row['Avg']}, {row['Eco']}, {row['SR']}, '{row['BBI']}', '{row['BBM']}', {row['4w']}, {row['5w']}, {row['10w']}\n",
    "    )\n",
    "    \"\"\"\n",
    "    cs.execute(insert_query)"
   ]
  },
  {
   "cell_type": "code",
   "execution_count": 142,
   "metadata": {},
   "outputs": [],
   "source": [
    "# curr = conn.cursor(DictCursor)\n",
    "# curr.execute('SELECT * FROM PLAYER_BATTING_STATS')\n",
    "# data_table = curr.fetchall()\n",
    "# player_batting = pd.DataFrame(data_table)\n",
    "\n",
    "\n",
    "curr = conn.cursor(DictCursor)\n",
    "curr.execute('SELECT * FROM PLAYER_BOWLING_STATS')\n",
    "data_table = curr.fetchall()\n",
    "player_batting = pd.DataFrame(data_table)"
   ]
  },
  {
   "cell_type": "code",
   "execution_count": null,
   "metadata": {},
   "outputs": [],
   "source": [
    "print(player_batting.to_string())"
   ]
  }
 ],
 "metadata": {
  "kernelspec": {
   "display_name": ".venv",
   "language": "python",
   "name": "python3"
  },
  "language_info": {
   "codemirror_mode": {
    "name": "ipython",
    "version": 3
   },
   "file_extension": ".py",
   "mimetype": "text/x-python",
   "name": "python",
   "nbconvert_exporter": "python",
   "pygments_lexer": "ipython3",
   "version": "3.12.9"
  }
 },
 "nbformat": 4,
 "nbformat_minor": 2
}
