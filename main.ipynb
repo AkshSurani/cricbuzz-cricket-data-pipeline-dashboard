{
 "cells": [
  {
   "cell_type": "code",
   "execution_count": 1,
   "metadata": {},
   "outputs": [],
   "source": [
    "import snowflake.connector\n",
    "from snowflake.connector.pandas_tools import write_pandas\n",
    "from snowflake.connector import connect,DictCursor\n",
    "import pandas as pd\n",
    "import requests\n",
    "import json"
   ]
  },
  {
   "cell_type": "code",
   "execution_count": 57,
   "metadata": {},
   "outputs": [],
   "source": [
    "api_key = \"6567132011mshed68849c12b0db0p10f15ejsnd58ad5ce4767\"  # Aksh\n",
    "# api_key = \"4f16ab08e8msh27e320e3d194653p1e0308jsn539b154232c5\" # Divy\n",
    "# api_key = \"8620937591msh4e8402b095c1122p1aa86cjsncc3f82db766b\" # Ikram"
   ]
  },
  {
   "cell_type": "code",
   "execution_count": 58,
   "metadata": {},
   "outputs": [],
   "source": [
    "headers = {\n",
    "            \"x-rapidapi-key\": f\"{api_key}\",\n",
    "            \"x-rapidapi-host\": \"cricbuzz-cricket.p.rapidapi.com\"\n",
    "        }\n",
    "\n",
    "http_url = \"https://cricbuzz-cricket.p.rapidapi.com\""
   ]
  },
  {
   "cell_type": "code",
   "execution_count": 4,
   "metadata": {},
   "outputs": [],
   "source": [
    "conn = snowflake.connector.connect(\n",
    " user='project',\n",
    " password='Project@123456',\n",
    " account='fzkreem-ojb05768',\n",
    " warehouse = 'COMPUTE_WH',\n",
    " role = 'ACCOUNTADMIN',\n",
    ")"
   ]
  },
  {
   "cell_type": "code",
   "execution_count": 5,
   "metadata": {},
   "outputs": [
    {
     "data": {
      "text/plain": [
       "<snowflake.connector.cursor.SnowflakeCursor at 0x1f165c15fa0>"
      ]
     },
     "execution_count": 5,
     "metadata": {},
     "output_type": "execute_result"
    }
   ],
   "source": [
    "cs = conn.cursor()\n",
    "# cs.execute('CREATE or REPLACE DATABASE \"cricbuzz\"')\n",
    "cs.execute('USE DATABASE \"cricbuzz\"')"
   ]
  },
  {
   "cell_type": "code",
   "execution_count": null,
   "metadata": {},
   "outputs": [],
   "source": [
    "# cs.execute('CREATE OR REPLACE TABLE \"cricbuzz_table\" (\"id\" number(10),\"rank\" number(10),\"name\" varchar(50),'\n",
    "# '\"country\" varchar(20),\"rating\" number(5),\"difference\" number(10,2),\"points\" number(5),\"lastUpdatedOn\" timestamptz,\"trend\" varchar(5),'\n",
    "# '\"faceImageId\" number(10),\"countryId\" number(10),\"isWomen\" varchar(10),\"formatType\" varchar(10),\"category\" varchar(20))')\n",
    "\n",
    "# cs.execute('USE TABLE \"cricbuzz_table\"')\n",
    "cs.execute('SHOW TABLES')\n",
    "TABLES = cs.fetchall()\n",
    "TABLES"
   ]
  },
  {
   "cell_type": "code",
   "execution_count": null,
   "metadata": {},
   "outputs": [],
   "source": [
    "def get_icc_ranking_player():\n",
    "    # l = [[0, 'test'], [0, 'odi'], [0, 't20'],[1,'test'], [1, 'odi'], [1, 't20']]\n",
    "    # l = [[1,'test'],[1,'odi']]\n",
    "    l = [\n",
    "        ['batsmen', 'odi', 0],\n",
    "        ['batsmen', 'test', 0],\n",
    "        ['batsmen', 't20', 0],\n",
    "        ['bowlers', 'odi', 0],\n",
    "        ['bowlers', 'test', 0],\n",
    "        ['bowlers', 't20', 0],\n",
    "        ['allrounders', 'odi', 0],\n",
    "        ['allrounders', 'test', 0],\n",
    "        ['allrounders', 't20', 0],\n",
    "        # ['teams', 'odi', 0],\n",
    "        # ['teams', 'test', 0],\n",
    "        # ['teams', 't20', 0],\n",
    "        ['batsmen', 'odi', 1],\n",
    "        # ['batsmen', 'test', 1],\n",
    "        ['batsmen', 't20', 1],\n",
    "        ['bowlers', 'odi', 1],\n",
    "        # ['bowlers', 'test', 1],\n",
    "        ['bowlers', 't20', 1],\n",
    "        ['allrounders', 'odi', 1],\n",
    "        # ['allrounders', 'test', 1],\n",
    "        ['allrounders', 't20', 1],\n",
    "        # ['teams', 'odi', 1],\n",
    "        # ['teams', 'test', 1],\n",
    "        # ['teams', 't20', 1]\n",
    "    ]\n",
    "\n",
    "    for i in l:\n",
    "        url = f\"{http_url}/stats/v1/rankings/{i[0]}?formatType={i[1]}&isWomen={int(i[2])}\"\n",
    "\n",
    "        try:\n",
    "            response = requests.get(url, headers=headers)\n",
    "            response.raise_for_status()  # Check for HTTP errors\n",
    "            data = response.json()\n",
    "            \n",
    "            df = pd.DataFrame(data['rank'])\n",
    "            df['category'] = i[0]\n",
    "            df['formatType'] = i[1]\n",
    "            df['isWomen'] = i[2]\n",
    "\n",
    "            write_pandas(conn, df, table_name=\"cricbuzz_table\")\n",
    "            \n",
    "        except requests.exceptions.RequestException as e:\n",
    "            print(f\"Request failed: {e}\")\n",
    "            continue\n",
    "        except KeyError as e:\n",
    "            print(f\"Key error: {e}\")\n",
    "            continue\n",
    "        except Exception as e:\n",
    "            print(f\"An error occurred: {e}\")\n",
    "            continue"
   ]
  },
  {
   "cell_type": "code",
   "execution_count": null,
   "metadata": {},
   "outputs": [
    {
     "name": "stdout",
     "output_type": "stream",
     "text": [
      "Request failed: Expecting value: line 1 column 1 (char 0)\n",
      "Request failed: Expecting value: line 1 column 1 (char 0)\n",
      "Request failed: Expecting value: line 1 column 1 (char 0)\n"
     ]
    }
   ],
   "source": [
    "# get_icc_ranking_player()"
   ]
  },
  {
   "cell_type": "code",
   "execution_count": 9,
   "metadata": {},
   "outputs": [],
   "source": [
    "curr = conn.cursor(DictCursor)\n",
    "curr.execute('SELECT * FROM \"cricbuzz_table\"')\n",
    "data_table = curr.fetchall()\n",
    "ranking_data = pd.DataFrame(data_table)"
   ]
  },
  {
   "cell_type": "code",
   "execution_count": null,
   "metadata": {},
   "outputs": [],
   "source": [
    "ranking_data"
   ]
  },
  {
   "cell_type": "code",
   "execution_count": null,
   "metadata": {},
   "outputs": [],
   "source": [
    "write_pandas(conn,ranking_data,table_name=\"cricbuzz_table\")"
   ]
  },
  {
   "cell_type": "code",
   "execution_count": 16,
   "metadata": {},
   "outputs": [
    {
     "data": {
      "text/plain": [
       "<snowflake.connector.cursor.SnowflakeCursor at 0x20551eedd30>"
      ]
     },
     "execution_count": 16,
     "metadata": {},
     "output_type": "execute_result"
    }
   ],
   "source": [
    "cs.execute('CREATE OR REPLACE TABLE \"team_list\" (\"teamId\" number(10),\"teamName\" varchar(50),\"teamSName\" varchar(20),\"countryName\" varchar(20))')"
   ]
  },
  {
   "cell_type": "code",
   "execution_count": 17,
   "metadata": {},
   "outputs": [],
   "source": [
    "def get_teams_data():   \n",
    "     try:\n",
    "          url = f\"{http_url}/teams/v1/international\"\n",
    "          response = requests.get(url, headers=headers)\n",
    "          response.raise_for_status() \n",
    "          data = response.json()\n",
    "          \n",
    "          for i in data['list']:\n",
    "               if i['teamName'] == 'Associate Teams':\n",
    "                    break \n",
    "               \n",
    "               if len(i) < 2:\n",
    "                    continue\n",
    "\n",
    "               print(i)\n",
    "               i.pop('imageId')\n",
    "               df1 = pd.DataFrame([i])  # Corrected DataFrame creation\n",
    "               write_pandas(conn, df1, table_name=\"team_list\")\n",
    "\n",
    "     except requests.exceptions.RequestException as e:\n",
    "          print(f\"Request failed: {e}\")\n",
    "     except Exception as e:\n",
    "          print(f\"An error occurred: {e}\")"
   ]
  },
  {
   "cell_type": "code",
   "execution_count": null,
   "metadata": {},
   "outputs": [],
   "source": [
    "# get_teams_data()"
   ]
  },
  {
   "cell_type": "code",
   "execution_count": null,
   "metadata": {},
   "outputs": [],
   "source": [
    "curr = conn.cursor(DictCursor)\n",
    "curr.execute('SELECT * FROM \"team_list\"')\n",
    "data_table = curr.fetchall()\n",
    "pd.DataFrame(data_table)"
   ]
  },
  {
   "cell_type": "code",
   "execution_count": 40,
   "metadata": {},
   "outputs": [
    {
     "data": {
      "text/plain": [
       "<snowflake.connector.cursor.SnowflakeCursor at 0x20551eedd30>"
      ]
     },
     "execution_count": 40,
     "metadata": {},
     "output_type": "execute_result"
    }
   ],
   "source": [
    "cs.execute('CREATE OR REPLACE TABLE \"team_players\" (\"id\" number(10),\"name\" varchar(50),\"battingStyle\" varchar(50),\"bowlingStyle\" varchar(50),\"role\" varchar(20),\"teamId\" number(10))')"
   ]
  },
  {
   "cell_type": "code",
   "execution_count": 33,
   "metadata": {},
   "outputs": [],
   "source": [
    "def get_temas_player():\n",
    "    teamId = 4\n",
    "    role = ''\n",
    "    url = f\"{http_url}/teams/v1/{teamId}/players\"\n",
    "    \n",
    "    try:\n",
    "        response = requests.get(url, headers=headers)\n",
    "        response.raise_for_status()  # Check for HTTP errors\n",
    "        data = response.json()\n",
    "        \n",
    "        for i in data['player']:\n",
    "            if i['name'] == 'BATSMEN':\n",
    "                role = 'Batsman'\n",
    "                continue\n",
    "            elif i['name'] == 'ALL ROUNDER':\n",
    "                role = 'Allrounder'\n",
    "                continue\n",
    "            elif i['name'] == 'WICKET KEEPER':\n",
    "                role = 'WK-Batsman'\n",
    "                continue\n",
    "            elif i['name'] == 'BOWLER':\n",
    "                role = 'Bowler'\n",
    "                continue\n",
    "\n",
    "            i['role'] = role\n",
    "            i['teamId'] = teamId\n",
    "            i.pop('imageId', None)\n",
    "            print(i)\n",
    "            \n",
    "            df1 = pd.DataFrame([i])\n",
    "            write_pandas(conn, df1, table_name=\"team_players\")\n",
    "            \n",
    "    except requests.exceptions.RequestException as e:\n",
    "        print(f\"Request failed: {e}\")\n",
    "    except KeyError as e:\n",
    "        print(f\"Key error: {e}\")\n",
    "    except Exception as e:\n",
    "        print(f\"An error occurred: {e}\")"
   ]
  },
  {
   "cell_type": "code",
   "execution_count": null,
   "metadata": {},
   "outputs": [],
   "source": [
    "# get_temas_player()"
   ]
  },
  {
   "cell_type": "code",
   "execution_count": 51,
   "metadata": {},
   "outputs": [],
   "source": [
    "curr = conn.cursor(DictCursor)\n",
    "curr.execute('SELECT * FROM team_players_main where teamId = 4')\n",
    "data_table = curr.fetchall()\n",
    "team_p = pd.DataFrame(data_table)"
   ]
  },
  {
   "cell_type": "code",
   "execution_count": null,
   "metadata": {},
   "outputs": [],
   "source": [
    "# url = f\"{http_url}/stats/v1/player/1413/batting\"\n",
    "# response = requests.get(url, headers=headers)\n",
    "# response.raise_for_status()  # Check for HTTP errors\n",
    "# data = response.json()\n"
   ]
  },
  {
   "cell_type": "code",
   "execution_count": null,
   "metadata": {},
   "outputs": [],
   "source": [
    "# data\n",
    "team_p"
   ]
  },
  {
   "cell_type": "code",
   "execution_count": 129,
   "metadata": {},
   "outputs": [
    {
     "data": {
      "text/plain": [
       "<snowflake.connector.cursor.SnowflakeCursor at 0x20551eedd30>"
      ]
     },
     "execution_count": 129,
     "metadata": {},
     "output_type": "execute_result"
    }
   ],
   "source": [
    "# create_table_query = \"\"\"\n",
    "# CREATE or replace TABLE PLAYER_BATTING_STATS (\n",
    "#     PlayerID NUMBER(10, 0),\n",
    "#     PlayerName VARCHAR(20),\n",
    "#     Format VARCHAR(20),\n",
    "#     Matches NUMBER(10, 0),\n",
    "#     Innings NUMBER(10, 0),\n",
    "#     Runs NUMBER(10, 0),\n",
    "#     Balls NUMBER(10, 0),\n",
    "#     Highest NUMBER(10, 0),\n",
    "#     Average NUMBER(10, 2),\n",
    "#     SR NUMBER(10, 2),\n",
    "#     NotOut NUMBER(10, 0),\n",
    "#     Fours NUMBER(10, 0),\n",
    "#     Sixes NUMBER(10, 0),\n",
    "#     Ducks NUMBER(10, 0),\n",
    "#     Fifties NUMBER(10, 0),\n",
    "#     Hundreds NUMBER(10, 0),\n",
    "#     DoubleHundreds NUMBER(10, 0),\n",
    "#     TripleHundreds NUMBER(10, 0),\n",
    "#     QuadrupleHundreds NUMBER(10, 0)\n",
    "# )\n",
    "# \"\"\"\n",
    "# cs.execute(create_table_query)"
   ]
  },
  {
   "cell_type": "code",
   "execution_count": null,
   "metadata": {},
   "outputs": [
    {
     "data": {
      "text/plain": [
       "<snowflake.connector.cursor.SnowflakeCursor at 0x20551eedd30>"
      ]
     },
     "execution_count": 138,
     "metadata": {},
     "output_type": "execute_result"
    }
   ],
   "source": [
    "# create_table_query = \"\"\"\n",
    "# CREATE or replace TABLE PLAYER_BOWLING_STATS (\n",
    "#     PlayerID NUMBER(10, 0),\n",
    "#     PlayerName VARCHAR(20),\n",
    "#     Format VARCHAR(20),\n",
    "#     Matches NUMBER(10, 0),\n",
    "#     Innings NUMBER(10, 0),\n",
    "#     Balls NUMBER(10, 0),\n",
    "#     Runs NUMBER(10, 0),\n",
    "#     Maidens NUMBER(10, 0),\n",
    "#     Wickets NUMBER(10, 0),\n",
    "#     Avg NUMBER(10,2),\n",
    "#     Eco NUMBER(10,2),\n",
    "#     SR NUMBER(10, 2),\n",
    "#     BBI VARCHAR(20),\n",
    "#     BBM VARCHAR(20),\n",
    "#     FourW NUMBER(10,0),\n",
    "#     FiveW NUMBER(10,0),\n",
    "#     TenW NUMBER(10,0)\n",
    "# )\n",
    "# \"\"\"\n",
    "# cs.execute(create_table_query)"
   ]
  },
  {
   "cell_type": "code",
   "execution_count": 60,
   "metadata": {},
   "outputs": [],
   "source": [
    "import time\n",
    "\n",
    "def fetch_player_data(player_id):\n",
    "    # url = f\"{http_url}/stats/v1/player/{player_id}/batting\"\n",
    "    url = f\"{http_url}/stats/v1/player/{player_id}/bowling\"\n",
    "    \n",
    "    # response = requests.get(url, headers=headers)\n",
    "    # response.raise_for_status()  \n",
    "    # return response.json()\n",
    "    \n",
    "    retries = 5\n",
    "    for i in range(retries):\n",
    "        response = requests.get(url, headers=headers)\n",
    "        if response.status_code == 503:\n",
    "            wait_time = 2 ** i  # Exponential backoff\n",
    "            print(f\"Service unavailable. Retrying in {wait_time} seconds...\")\n",
    "            time.sleep(wait_time)\n",
    "        else:\n",
    "            response.raise_for_status()  # Check for other HTTP errors\n",
    "            return response.json()\n",
    "    raise Exception(\"Failed to fetch data after multiple retries\")\n",
    "\n",
    "def process_data(data, player_id, player_name):\n",
    "    headers = data['headers'][1:]  # Skip 'ROWHEADER'\n",
    "    values = data['values']\n",
    "    \n",
    "    records = []\n",
    "    for i, format in enumerate(headers):\n",
    "        record = {}\n",
    "        \n",
    "        record['PlayerID'] = player_id\n",
    "        record['Format'] = format\n",
    "        record['PlayerName'] = player_name\n",
    "        \n",
    "        for _,val in enumerate(values):\n",
    "            col_name = val['values'][0]\n",
    "            # record[col_name] = float(val['values'][i+1]) if '.' in val['values'][i+1] else int(val['values'][i+1])\n",
    "            if '.' in val['values'][i+1] :\n",
    "                record[col_name] = float(val['values'][i+1])\n",
    "            elif '/' in val['values'][i + 1]:\n",
    "                record[col_name] = str(val['values'][i+1])\n",
    "            else :\n",
    "                record[col_name] = int(val['values'][i+1])\n",
    "                \n",
    "        records.append(record)\n",
    "        \n",
    "    return records"
   ]
  },
  {
   "cell_type": "code",
   "execution_count": null,
   "metadata": {},
   "outputs": [],
   "source": [
    "# all_records = []\n",
    "\n",
    "# for player_id in team_p['ID']:\n",
    "#     data = fetch_player_data(player_id)\n",
    "#     player_name = team_p.loc[team_p['ID'] == player_id,'NAME'].values[0]\n",
    "#     records = process_data(data, player_id, player_name)\n",
    "#     all_records.extend(records)\n",
    "    \n",
    "# player_stats_df = pd.DataFrame(all_records)\n",
    "# print(player_stats_df.to_string())"
   ]
  },
  {
   "cell_type": "code",
   "execution_count": null,
   "metadata": {},
   "outputs": [],
   "source": [
    "# for index, row in player_stats_df.iterrows():\n",
    "#     insert_query = f\"\"\"\n",
    "#     INSERT INTO PLAYER_BATTING_STATS (\n",
    "#         PlayerID, PlayerName, Format, Matches, Innings, Runs, Balls, Highest, Average, SR, NotOut, Fours, Sixes, Ducks, Fifties, Hundreds, DoubleHundreds, TripleHundreds, QuadrupleHundreds\n",
    "#     ) VALUES (\n",
    "#         {row['PlayerID']}, '{row['PlayerName']}', '{row['Format']}', {row['Matches']}, {row['Innings']}, {row['Runs']}, {row['Balls']}, {row['Highest']}, {row['Average']}, {row['SR']}, {row['Not Out']}, {row['Fours']}, {row['Sixes']}, {row['Ducks']}, {row['50s']}, {row['100s']}, {row['200s']}, {row['300s']}, {row['400s']}\n",
    "#     )\n",
    "#     \"\"\"\n",
    "#     cs.execute(insert_query)"
   ]
  },
  {
   "cell_type": "code",
   "execution_count": null,
   "metadata": {},
   "outputs": [],
   "source": [
    "# for index, row in player_stats_df.iterrows():\n",
    "#     insert_query = f\"\"\"\n",
    "#     INSERT INTO PLAYER_BOWLING_STATS (\n",
    "#         PlayerID, PlayerName, Format, Matches, Innings, Balls, Runs, Maidens, Wickets,Avg,Eco, SR, BBI, BBM , FourW , FiveW , TenW\n",
    "#     ) VALUES (\n",
    "#         {row['PlayerID']}, '{row['PlayerName']}', '{row['Format']}', {row['Matches']}, {row['Innings']}, {row['Balls']},{row['Runs']}, {row['Maidens']}, {row['Wickets']}, {row['Avg']}, {row['Eco']}, {row['SR']}, '{row['BBI']}', '{row['BBM']}', {row['4w']}, {row['5w']}, {row['10w']}\n",
    "#     )\n",
    "#     \"\"\"\n",
    "#     cs.execute(insert_query)"
   ]
  },
  {
   "cell_type": "code",
   "execution_count": 142,
   "metadata": {},
   "outputs": [],
   "source": [
    "# curr = conn.cursor(DictCursor)\n",
    "# curr.execute('SELECT * FROM PLAYER_BATTING_STATS')\n",
    "# data_table = curr.fetchall()\n",
    "# player_batting = pd.DataFrame(data_table)\n",
    "\n",
    "\n",
    "curr = conn.cursor(DictCursor)\n",
    "curr.execute('SELECT * FROM PLAYER_BOWLING_STATS')\n",
    "data_table = curr.fetchall()\n",
    "player_batting = pd.DataFrame(data_table)"
   ]
  },
  {
   "cell_type": "code",
   "execution_count": null,
   "metadata": {},
   "outputs": [],
   "source": [
    "print(player_batting.to_string())"
   ]
  }
 ],
 "metadata": {
  "kernelspec": {
   "display_name": ".venv",
   "language": "python",
   "name": "python3"
  },
  "language_info": {
   "codemirror_mode": {
    "name": "ipython",
    "version": 3
   },
   "file_extension": ".py",
   "mimetype": "text/x-python",
   "name": "python",
   "nbconvert_exporter": "python",
   "pygments_lexer": "ipython3",
   "version": "3.12.9"
  }
 },
 "nbformat": 4,
 "nbformat_minor": 2
}
